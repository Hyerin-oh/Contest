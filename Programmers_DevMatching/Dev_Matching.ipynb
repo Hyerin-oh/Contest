{
  "nbformat": 4,
  "nbformat_minor": 0,
  "metadata": {
    "colab": {
      "name": "Dev-Matching.ipynb",
      "provenance": [],
      "collapsed_sections": [],
      "machine_shape": "hm"
    },
    "kernelspec": {
      "name": "python3",
      "display_name": "Python 3"
    },
    "language_info": {
      "name": "python"
    },
    "accelerator": "GPU"
  },
  "cells": [
    {
      "cell_type": "markdown",
      "metadata": {
        "id": "pOg3KMyg_6DB"
      },
      "source": [
        "# 설치 목록\n"
      ]
    },
    {
      "cell_type": "code",
      "metadata": {
        "id": "qVphsP283xmQ"
      },
      "source": [
        "# ! pip install albumentations==0.4.6\n",
        "# ! pip install wandb\n",
        "# ! pip install timm\n",
        "# !pip install MADGRAD"
      ],
      "execution_count": null,
      "outputs": []
    },
    {
      "cell_type": "markdown",
      "metadata": {
        "id": "zpownU985IOe"
      },
      "source": [
        "# EDA"
      ]
    },
    {
      "cell_type": "code",
      "metadata": {
        "id": "Ti4_9bma9ONd"
      },
      "source": [
        "import torch\n",
        "import numpy as np\n",
        "import pandas as pd\n",
        "# 시각화를 위한 라이브러리\n",
        "import matplotlib.pyplot as plt\n",
        "import seaborn as sns; sns.set()\n",
        "import glob\n",
        "import os\n",
        "plt.rcParams['axes.grid'] = False\n",
        "\n",
        "import numpy as np\n",
        "import albumentations as A\n",
        "from albumentations.pytorch import ToTensorV2"
      ],
      "execution_count": null,
      "outputs": []
    },
    {
      "cell_type": "markdown",
      "metadata": {
        "id": "Ryq8AdaRAjb_"
      },
      "source": [
        "# Le's Go~!"
      ]
    },
    {
      "cell_type": "code",
      "metadata": {
        "colab": {
          "base_uri": "https://localhost:8080/",
          "height": 366
        },
        "id": "YnGrz5gk-AB4",
        "outputId": "7a2fddb6-4e9e-4edf-9db9-93051b0ac417"
      },
      "source": [
        "classes = ['dog', 'elephant', 'giraffe','guitar','horse','house','person']\n",
        "num_classes = []\n",
        "for name in classes :\n",
        "  path = '/content/input/train/' + name\n",
        "  num_classes.append(len(glob.glob(os.path.join(path, '*.jpg'))))\n",
        "print(num_classes)\n",
        "plt.bar(range(len(num_classes)), num_classes)\n",
        "ax = plt.subplot()\n",
        "ax.set_xticks([0, 1, 2, 3, 4, 5, 6,])\n",
        "ax.set_xticklabels(classes, rotation=30)\n",
        "plt.show()"
      ],
      "execution_count": null,
      "outputs": [
        {
          "output_type": "stream",
          "text": [
            "[329, 205, 235, 134, 151, 245, 399]\n"
          ],
          "name": "stdout"
        },
        {
          "output_type": "stream",
          "text": [
            "/usr/local/lib/python3.7/dist-packages/ipykernel_launcher.py:8: MatplotlibDeprecationWarning: Adding an axes using the same arguments as a previous axes currently reuses the earlier instance.  In a future version, a new instance will always be created and returned.  Meanwhile, this warning can be suppressed, and the future behavior ensured, by passing a unique label to each axes instance.\n",
            "  \n"
          ],
          "name": "stderr"
        },
        {
          "output_type": "display_data",
          "data": {
            "image/png": "[encoded data removed]",
            "text/plain": [
              "<Figure size 432x288 with 1 Axes>"
            ]
          },
          "metadata": {
            "tags": []
          }
        }
      ]
    },
    {
      "cell_type": "code",
      "metadata": {
        "id": "gr4QMYEhuAzv"
      },
      "source": [
        "plt.figure(figsize = (20,15))\n",
        "for i , label in enumerate(classes):\n",
        "    for j in range(4) :\n",
        "      plot= plt.subplot(7, 4, 4*i + j+1 )\n",
        "      plt.axis('off')\n",
        "\n",
        "      img_path = os.path.join('/content/input/test/0' , '00' + str(4*i + j+41)+ '.jpg')\n",
        "      img = plt.imread(img_path)\n",
        "      plt.imshow(img)"
      ],
      "execution_count": null,
      "outputs": []
    },
    {
      "cell_type": "code",
      "metadata": {
        "id": "o5fX_n5p_vz7"
      },
      "source": [
        "plt.figure(figsize = (20,15))\n",
        "for i , label in enumerate(classes):\n",
        "    for j in range(4) :\n",
        "      plot= plt.subplot(7, 4, 4*i + j+1 )\n",
        "      plt.axis('off')\n",
        "\n",
        "      img_path = os.path.join(os.path.join('/content/input/train' , label) , 'pic_00' + str(j+1)+ '.jpg')\n",
        "      img = plt.imread(img_path)\n",
        "      plt.imshow(img)"
      ],
      "execution_count": null,
      "outputs": []
    },
    {
      "cell_type": "code",
      "metadata": {
        "id": "VXMehx_I3GdU"
      },
      "source": [
        "import os\n",
        "import numpy as np \n",
        "import pandas as pd\n",
        "import random\n",
        "import wandb \n",
        "import torch\n",
        "import torch.nn as nn\n",
        "import torch.nn.functional as F\n",
        "from torch.utils.data import DataLoader\n",
        "\n",
        "import albumentations as A\n",
        "from albumentations.pytorch import ToTensorV2\n",
        "from sklearn.model_selection import train_test_split\n",
        "\n",
        "from importlib import import_module\n",
        "from tqdm import tqdm\n",
        "import timm\n",
        "from PIL import Image\n",
        "import cv2"
      ],
      "execution_count": null,
      "outputs": []
    },
    {
      "cell_type": "markdown",
      "metadata": {
        "id": "3HizxYYDAMfz"
      },
      "source": [
        "# utils\n"
      ]
    },
    {
      "cell_type": "code",
      "metadata": {
        "id": "gkSki6sR3VDg"
      },
      "source": [
        "# seed 고정 \n",
        "def seed_everything(seed: int = 42):\n",
        "    random.seed(seed)\n",
        "    np.random.seed(seed)\n",
        "    os.environ[\"PYTHONHASHSEED\"] = str(seed)\n",
        "    torch.manual_seed(seed)\n",
        "    torch.cuda.manual_seed(seed)  # type: ignore\n",
        "    torch.backends.cudnn.deterministic = True  # type: ignore\n",
        "    torch.backends.cudnn.benchmark = True  # type: ignore\n",
        "\n",
        "seed_everything(42)\n",
        "\n",
        "# lr for wandb\n",
        "def get_lr(optimizer):\n",
        "    for param_group in optimizer.param_groups:\n",
        "        return param_group['lr']\n",
        "\n",
        "# save model\n",
        "def save_model(model, version, save_type='acc'):\n",
        "    save_path = os.path.join(f'./ckpts/{version}')\n",
        "    if not os.path.exists(save_path):\n",
        "        os.makedirs(save_path)\n",
        "\n",
        "    save_dir = os.path.join(save_path, f'best_{save_type}.pth')\n",
        "    torch.save(model.state_dict(), save_dir)\n",
        "\n",
        "################## CUTMIX #################################\n",
        "def rand_bbox(size, lamb):\n",
        "    \"\"\" Generate random bounding box \n",
        "    Args:\n",
        "        - size: [width, breadth] of the bounding box\n",
        "        - lamb: (lambda) cut ratio parameter\n",
        "    Returns:\n",
        "        - Bounding box\n",
        "    \"\"\"\n",
        "    W = size[0]\n",
        "    H = size[1]\n",
        "    cut_rat = np.sqrt(1. - lamb)\n",
        "    cut_w = np.int(W * cut_rat)\n",
        "    cut_h = np.int(H * cut_rat)\n",
        "\n",
        "    # uniform\n",
        "    cx = np.random.randint(W)\n",
        "    cy = np.random.randint(H)\n",
        "\n",
        "    bbx1 = np.clip(cx - cut_w // 2, 0, W)\n",
        "    bby1 = np.clip(cy - cut_h // 2, 0, H)\n",
        "    bbx2 = np.clip(cx + cut_w // 2, 0, W)\n",
        "    bby2 = np.clip(cy + cut_h // 2, 0, H)\n",
        "\n",
        "    return bbx1, bby1, bbx2, bby2\n",
        "\n",
        "def generate_cutmix_image(image_batch, image_batch_labels, beta):\n",
        "    \"\"\" Generate a CutMix augmented image from a batch \n",
        "    Args:\n",
        "        - image_batch: a batch of input images\n",
        "        - image_batch_labels: labels corresponding to the image batch\n",
        "        - beta: a parameter of Beta distribution.\n",
        "    Returns:\n",
        "        - CutMix image batch, updated labels\n",
        "    \"\"\"\n",
        "    # generate mixed sample\n",
        "    lam = np.random.beta(beta, beta)\n",
        "    rand_index = np.random.permutation(len(image_batch))\n",
        "    target_a = image_batch_labels\n",
        "    target_b = image_batch_labels[rand_index]\n",
        "    bbx1, bby1, bbx2, bby2 = rand_bbox(image_batch[0].shape, lam)\n",
        "    image_batch[:, :, bbx1:bbx2, bby1:bby2] = image_batch[rand_index, :, bbx1:bbx2, bby1:bby2]\n",
        "    \n",
        "    # adjust lambda to exactly match pixel ratio\n",
        "    lam = 1 - ((bbx2 - bbx1) * (bby2 - bby1) / (image_batch.shape[1] * image_batch.shape[2]))\n",
        "    \n",
        "    return target_a , target_b , lam"
      ],
      "execution_count": null,
      "outputs": []
    },
    {
      "cell_type": "code",
      "metadata": {
        "id": "BMizvDT7ECRT"
      },
      "source": [
        "def make_df():\n",
        "  all_img_files = []\n",
        "  all_labels = []\n",
        "  class_names = {'dog':0 ,'elephant':1 , 'giraffe':2 , 'guitar':3 , 'horse':4 , 'house' : 5 , 'person' : 6}\n",
        "  for name , label in class_names.items():\n",
        "      img_folder = os.path.join('/content/input/train' , name)\n",
        "      for file_name in os.listdir(img_folder):\n",
        "          file_name = os.path.join(img_folder, file_name)\n",
        "          all_img_files.append(file_name)\n",
        "          all_labels.append(label)\n",
        "  \n",
        "  df = pd.DataFrame({'img_path' : all_img_files, 'label' : all_labels})\n",
        "  return df"
      ],
      "execution_count": null,
      "outputs": []
    },
    {
      "cell_type": "markdown",
      "metadata": {
        "id": "dqsWHxIDARad"
      },
      "source": [
        "# Dataset"
      ]
    },
    {
      "cell_type": "code",
      "metadata": {
        "id": "MIUHxKNI5H_N"
      },
      "source": [
        "class CustomDataset(torch.utils.data.Dataset):\n",
        "    def __init__(self, data , transform = None ):\n",
        "      self.data = data  \n",
        "      self.transform = transform\n",
        "\n",
        "    def __getitem__(self, idx):\n",
        "        image_path , label = self.data['img_path'].iloc[idx] , self.data['label'].iloc[idx]\n",
        "        images = cv2.imread(image_path)\n",
        "        image = cv2.cvtColor(images, cv2.COLOR_BGR2RGB).astype(np.uint8)\n",
        "\n",
        "        if self.transform is not None:\n",
        "            transformed = self.transform(image=image)\n",
        "            image = transformed[\"image\"]     \n",
        "            return {'image' : image, 'label' : label}\n",
        "\n",
        "    def __len__(self):\n",
        "      return len(self.data)"
      ],
      "execution_count": null,
      "outputs": []
    },
    {
      "cell_type": "markdown",
      "metadata": {
        "id": "U2F_BJdeAT9D"
      },
      "source": [
        "# Model"
      ]
    },
    {
      "cell_type": "code",
      "metadata": {
        "id": "1D9OXnNdIL87"
      },
      "source": [
        "# Model \n",
        "class EfficientNet(nn.Module):\n",
        "    def __init__(self , num_classes = 7):\n",
        "        super().__init__()\n",
        "        self.backbone = timm.create_model('efficientnet_b4' , pretrained = True)\n",
        "        self.backbone.classifier = nn.Linear(1792,num_classes)\n",
        "\n",
        "    def forward(self, x):\n",
        "        x = self.backbone(x)\n",
        "        return x\n",
        "\n",
        "class Swin(nn.Module):\n",
        "    def __init__(self , num_classes = 7):\n",
        "        super().__init__()\n",
        "        self.backbone = timm.create_model('swin_base_patch4_window7_224_in22k' , pretrained = True)\n",
        "        self.backbone.head = nn.Linear(1024,num_classes)\n",
        "\n",
        "    def forward(self, x):\n",
        "        x = self.backbone(x)\n",
        "        return x\n",
        "\n",
        "class NFNet(nn.Module):\n",
        "    def __init__(self , num_classes = 7):\n",
        "        super().__init__()\n",
        "        self.backbone = timm.create_model('dm_nfnet_f3' , pretrained = True)\n",
        "        self.backbone.head.fc = nn.Linear(3072,num_classes)\n",
        "\n",
        "    def forward(self, x):\n",
        "        x = self.backbone(x)\n",
        "        return x  "
      ],
      "execution_count": null,
      "outputs": []
    },
    {
      "cell_type": "markdown",
      "metadata": {
        "id": "dgK3lrjxAfFJ"
      },
      "source": [
        "# Loss\n"
      ]
    },
    {
      "cell_type": "code",
      "metadata": {
        "id": "J3SLRZrHLTbe"
      },
      "source": [
        "## LOSS Function\n",
        "# for weighted CE \n",
        "weights = [sum(num_classes)/w for w in num_classes]\n",
        "\n",
        "# LabelSmoothing\n",
        "class LabelSmoothingLoss(nn.Module):\n",
        "    def __init__(self, classes=7, smoothing=0.0, dim=-1):\n",
        "        super(LabelSmoothingLoss, self).__init__()\n",
        "        self.confidence = 1.0 - smoothing\n",
        "        self.smoothing = smoothing\n",
        "        self.cls = classes\n",
        "        self.dim = dim\n",
        "\n",
        "    def forward(self, pred, target):\n",
        "        pred = pred.log_softmax(dim=self.dim)\n",
        "        with torch.no_grad():\n",
        "            true_dist = torch.zeros_like(pred)\n",
        "            true_dist.fill_(self.smoothing / (self.cls - 1))\n",
        "            true_dist.scatter_(1, target.data.unsqueeze(1), self.confidence)\n",
        "        return torch.mean(torch.sum(-true_dist * pred, dim=self.dim))\n",
        "\n",
        "# Focal\n",
        "class FocalLoss(nn.Module):\n",
        "    def __init__(self, gamma=2, alpha=.25, weights=None):   \n",
        "        super(FocalLoss, self).__init__()\n",
        "        self.gamma = gamma\n",
        "        self.alpha = alpha\n",
        "        self.weight = weights\n",
        "\n",
        "    def forward(self, inputs, targets):\n",
        "        \"\"\"Computes the FocalLoss\n",
        "        Notes: [Batch size,Num classes,Height,Width]\n",
        "        Args:\n",
        "            targets: a tensor of shape [B, H, W] or [B, 1, H, W].\n",
        "            inputs: a tensor of shape [B, C, H, W]. Corresponds to\n",
        "                the raw output or logits of the model. (prediction)\n",
        "        Returns:\n",
        "            focal loss : -alpha *(1-p)*gamma * log(p)\n",
        "        \"\"\"\n",
        "        logp = F.log_softmax(inputs, dim=1)\n",
        "        ce_loss = F.nll_loss(logp, targets, weight=self.weight, reduction='none')\n",
        "        pt = torch.exp(-ce_loss)\n",
        "\n",
        "        loss = self.alpha * (1 - pt) ** self.gamma * ce_loss\n",
        "        return loss.mean()"
      ],
      "execution_count": null,
      "outputs": []
    },
    {
      "cell_type": "markdown",
      "metadata": {
        "id": "g04k5ykcAghj"
      },
      "source": [
        "# train"
      ]
    },
    {
      "cell_type": "code",
      "metadata": {
        "id": "pmtLt5NYMDsT"
      },
      "source": [
        "def train( train_loader, val_loader,  model,  optimizer ,criterion , scheduler):\n",
        "    \n",
        "    early_stop = EARLY_STOP\n",
        "    cnt = 0\n",
        "    \n",
        "    best_val_acc = 0\n",
        "    best_val_loss = np.inf\n",
        "    \n",
        "    for epoch in range(NUM_EPOCHS):\n",
        "        if early_stop < cnt : break\n",
        "\n",
        "        # train loop\n",
        "        model.train()\n",
        "        \n",
        "        train_loss_value = 0\n",
        "        train_acc_value = 0\n",
        "        \n",
        "        with tqdm(train_loader, total = len(train_loader) , unit = 'batch') as train_bar :\n",
        "            for batch, sample in enumerate(train_bar):\n",
        "                images = sample['image'].to(device)\n",
        "                labels = sample['label'].to(device)\n",
        "\n",
        "                r = np.random.rand(1)\n",
        "                if r > CUTMIX and CUTMIX > 0 :\n",
        "                    target_a , target_b , lam = generate_cutmix_image(images , labels , CutMix)\n",
        "                    outputs = model(images)\n",
        "                    preds = outputs.argmax(1)   \n",
        "                    loss = criterion(outs, target_a) * lam + criterion(outs, target_b) * (1. - lam)\n",
        "\n",
        "                else :\n",
        "                    outputs = model(images)\n",
        "                    preds = outputs.argmax(1)            \n",
        "                    loss = criterion(outputs, labels)\n",
        "\n",
        "                optimizer.zero_grad()\n",
        "                loss.backward()\n",
        "                optimizer.step()\n",
        "                scheduler.step()\n",
        "\n",
        "                train_loss_value += loss.item()\n",
        "                train_acc_value += (preds == labels).sum().item()\n",
        "\n",
        "                train_mean_loss = train_loss_value / TRAIN_BATCHSIZE\n",
        "                train_mean_value = ( train_acc_value / (batch + 1) / TRAIN_BATCHSIZE ) * 100.0\n",
        "\n",
        "                wandb.log({\n",
        "                    'Learning rate': get_lr(optimizer),\n",
        "                    'Train Loss value': train_mean_loss, \n",
        "                    'Train mean acc value': train_mean_value\n",
        "                })\n",
        "\n",
        "                train_bar.set_postfix(trn_loss=train_mean_loss, trn_acc=train_mean_value)\n",
        "\n",
        "        # train loop\n",
        "        model.eval()\n",
        "        \n",
        "        val_loss_value = 0\n",
        "        val_acc_value = 0\n",
        "        with torch.no_grad():\n",
        "            with tqdm(val_loader, total = len(val_loader) , unit = 'batch') as val_bar :\n",
        "                for batch, sample in enumerate(val_bar):\n",
        "                    images = sample['image'].to(device)\n",
        "                    labels = sample['label'].to(device)\n",
        "\n",
        "                    outputs = model(images)\n",
        "                    preds = outputs.argmax(1)            \n",
        "                    loss = criterion(outputs, labels)\n",
        "\n",
        "                    val_loss_value += loss.item()\n",
        "                    val_acc_value += (preds == labels).sum().item()\n",
        "\n",
        "\n",
        "        val_mean_loss = val_loss_value / VAL_BATCHSIZE\n",
        "        val_mean_acc = (val_acc_value / (batch + 1) / VAL_BATCHSIZE ) * 100.0\n",
        "\n",
        "        val_bar.set_postfix(val_loss=val_mean_loss, val_acc=val_mean_acc)   \n",
        "\n",
        "        wandb.log({\n",
        "            'Val Loss value': val_mean_loss,\n",
        "            'Val mean acc value': val_mean_acc\n",
        "        })\n",
        "\n",
        "        ## save model \n",
        "        if best_val_acc < val_mean_acc:\n",
        "            best_val_acc = val_mean_acc\n",
        "            save_model(model, version = RUN_NAME)\n",
        "        \n",
        "    wandb.finish()"
      ],
      "execution_count": null,
      "outputs": []
    },
    {
      "cell_type": "markdown",
      "metadata": {
        "id": "lLdr07WPAsCK"
      },
      "source": [
        "# Main"
      ]
    },
    {
      "cell_type": "code",
      "metadata": {
        "id": "PefpVVALHUhf"
      },
      "source": [
        "# Hyperparamter \n",
        "TRAIN_BATCHSIZE = 16\n",
        "VAL_BATCHSIZE =  16\n",
        "NUM_WORKERS = 3\n",
        "SEED = 42\n",
        "IMG_SIZE =320\n",
        "EARLY_STOP = 5\n",
        "LR = 1e-4\n",
        "NUM_EPOCHS = 20\n",
        "CUTMIX = 0\n",
        "#\n",
        "OPTIMIZER = 'AdamW'\n",
        "SAVE_PATH = '/content/drive/MyDrive/saved'\n",
        "RUN_NAME = \"E4_swin\"\n",
        "# device 설정\n",
        "device = torch.device('cuda:0' if torch.cuda.is_available() else 'cpu')\n",
        "wandb_config={\"lr\" : LR , \"epochs\": NUM_EPOCHS, \"train_batch_size\": TRAIN_BATCHSIZE , \"val_batch_size\" : VAL_BATCHSIZE , \"num_workers\" : NUM_WORKERS , \"seed\" : SEED , \"img_size\" : IMG_SIZE }"
      ],
      "execution_count": null,
      "outputs": []
    },
    {
      "cell_type": "code",
      "metadata": {
        "id": "PBxc68sr3U5j"
      },
      "source": [
        "# define augmentation\n",
        "train_transform = A.Compose([\n",
        "      A.Resize (IMG_SIZE, IMG_SIZE , p=1),\n",
        "      A.OneOf([\n",
        "        A.HorizontalFlip(p=0.5),\n",
        "        A.Rotate(limit = 30)\n",
        "        ]),\n",
        "      A.RandomResizedCrop (p=1 , height= 224 , width = 224, ratio = (0.75 , 1.25) , scale = (0.7,1.0) ),\n",
        "      A.Cutout(num_holes = 6 , max_h_size = 20 , max_w_size = 20 , p=1),\n",
        "      A.HueSaturationValue (p=0.5),\n",
        "      A.Normalize(),\n",
        "      ToTensorV2()\n",
        "    ])\n",
        "\n",
        "val_transform = A.Compose([\n",
        "        A.Normalize(),\n",
        "        A.Resize (224 , 224 , p=1),\n",
        "        ToTensorV2()\n",
        "    ])\n",
        "\n",
        "\n",
        "# dataset 구성\n",
        "dataset = make_df()\n",
        "label = dataset['label']\n",
        "train_x, val_x , train_y , val_y = train_test_split(dataset, label , test_size = 0.2 , random_state = SEED ,shuffle = True, stratify = label)\n",
        "\n",
        "\n",
        "train_dataset = CustomDataset( train_x  , train_transform)\n",
        "val_dataset = CustomDataset( val_x  , val_transform)\n",
        "\n",
        "  \n",
        "# dataloader 구성 \n",
        "train_loader = DataLoader(train_dataset, batch_size = TRAIN_BATCHSIZE, shuffle = True, num_workers = NUM_WORKERS)\n",
        "val_loader = DataLoader(val_dataset, batch_size = VAL_BATCHSIZE, shuffle = True, num_workers = NUM_WORKERS)\n",
        "\n",
        "# model \n",
        "model =  Swin(num_classes=7)\n",
        "model.to(device)\n",
        "\n",
        "# loss\n",
        "criterion = nn.CrossEntropyLoss()  # default: cross_entropy\n",
        "\n",
        "# optimizer \n",
        "if OPTIMIZER == 'MADGRAD' :\n",
        "    optimizer = MADGRAD(filter(lambda p: p.requires_grad, model.parameters()),\n",
        "                        lr=LR,\n",
        "                        weight_decay=5e-4)\n",
        "else :\n",
        "    opt_module = getattr(import_module(\"torch.optim\"), OPTIMIZER)  # default: SGD\n",
        "    optimizer = opt_module(\n",
        "        filter(lambda p: p.requires_grad, model.parameters()),\n",
        "        lr=LR,\n",
        "        weight_decay=5e-4\n",
        "    )\n",
        "\n",
        "# scheduler\n",
        "scheduler = torch.optim.lr_scheduler.CosineAnnealingWarmRestarts(optimizer, T_0 = 1000 , T_mult = 2 , eta_min = 5e-5 )\n",
        "\n",
        "# TRAIN\n",
        "wandb.login()\n",
        "wandb.init(project='Image classficiation', name=RUN_NAME, config = wandb_config)\n",
        "train(train_loader, val_loader , model , optimizer ,criterion , scheduler )"
      ],
      "execution_count": null,
      "outputs": []
    },
    {
      "cell_type": "markdown",
      "metadata": {
        "id": "MrH4s5a7KVUu"
      },
      "source": [
        "# Inference"
      ]
    },
    {
      "cell_type": "code",
      "metadata": {
        "id": "cZN6vBJdWrOJ"
      },
      "source": [
        "# INFERENCE DATASETCODE\n",
        "class TestDataset(torch.utils.data.Dataset):\n",
        "    def __init__(self, data_path , transform = None ):\n",
        "      self.data_path = data_path\n",
        "      self.data = sorted(os.listdir('/content/input/test/0'))\n",
        "      self.transform = transform\n",
        "\n",
        "    def __getitem__(self, idx):\n",
        "        image_path = os.path.join(self.data_path , self.data[idx])\n",
        "        images = cv2.imread(image_path)\n",
        "        image = cv2.cvtColor(images, cv2.COLOR_BGR2RGB).astype(np.uint8)\n",
        "\n",
        "        if self.transform is not None:\n",
        "            transformed = self.transform(image=image)\n",
        "            image = transformed[\"image\"]     \n",
        "            return {'image' : image , 'image_path' : image_path}\n",
        "\n",
        "    def __len__(self):\n",
        "      return len(self.data)"
      ],
      "execution_count": null,
      "outputs": []
    },
    {
      "cell_type": "code",
      "metadata": {
        "colab": {
          "base_uri": "https://localhost:8080/"
        },
        "id": "hReXLXCyTw7p",
        "outputId": "aa7d3cdc-a034-4b82-bee4-e82b6c30ff9d"
      },
      "source": [
        "# INFERENCE\n",
        "test_transform = A.Compose([\n",
        "        A.Normalize(),\n",
        "        A.Resize (224 , 224 , p=1),\n",
        "        ToTensorV2()\n",
        "    ])\n",
        "\n",
        "test_dataset = TestDataset('/content/input/test/0' , test_transform)\n",
        "\n",
        "# dataloader 구성 \n",
        "test_loader = DataLoader(test_dataset, batch_size = 1, shuffle = False, num_workers = NUM_WORKERS)\n",
        "\n",
        "model1 = Swin(num_classes=  7)\n",
        "model1.load_state_dict(torch.load('/content/ckpts/E4_swin/best_acc.pth'))\n",
        "model1.to(device)\n",
        "\n",
        "model2 = NFNet(num_classes = 7)\n",
        "model2.load_state_dict(torch.load('/content/ckpts/E4_NFNet3/best_acc.pth'))\n",
        "model2.to(device)\n",
        "submission = []\n",
        "model1.eval()\n",
        "model2.eval()\n",
        "with torch.no_grad():\n",
        "    with tqdm(test_loader, total = len(test_loader) , unit = 'batch') as test_bar :\n",
        "        for batch, sample in enumerate(test_bar):\n",
        "            images = sample['image'].to(device)\n",
        "            image_path = sample['image_path']\n",
        "\n",
        "            # outputs1= model1(images)\n",
        "            # outputs2 =model2(images)\n",
        "            # outputs = (outputs1 + outputs2) / 2\n",
        "            outputs = model(images)\n",
        "            preds = outputs.argmax(1)\n",
        "            submission.extend(preds.cpu().numpy())\n",
        "\n",
        "submission.head()"
      ],
      "execution_count": null,
      "outputs": [
        {
          "output_type": "stream",
          "text": [
            "100%|██████████| 350/350 [00:27<00:00, 12.52batch/s]\n"
          ],
          "name": "stderr"
        }
      ]
    },
    {
      "cell_type": "code",
      "metadata": {
        "id": "7YUknQVhYxCo"
      },
      "source": [
        "submission_csv = pd.read_csv('/content/input/test_answer_sample_.csv',index_col = 0)\n",
        "submission_csv['answer value'] = submission\n",
        "submission_csv.head()\n",
        "submission_csv.to_csv('/content/input/swin.csv')"
      ],
      "execution_count": null,
      "outputs": []
    },
    {
      "cell_type": "markdown",
      "metadata": {
        "id": "j5_IgkOCRoTJ"
      },
      "source": [
        "# visualization for augmentation\n"
      ]
    },
    {
      "cell_type": "code",
      "metadata": {
        "id": "jqfqjNoo1DH4"
      },
      "source": [
        "image = cv2.imread('/content/input/test/0/0001.jpg')\n",
        "image = cv2.cvtColor(image, cv2.COLOR_BGR2RGB)\n",
        "\n",
        "def visualize(image):\n",
        "    plt.figure(figsize=(8, 8))\n",
        "    plt.axis('off')\n",
        "    plt.imshow(image)\n",
        "\n",
        "visualize(image)\n",
        "\n",
        "transform = A.Compose([\n",
        "                      A.HueSaturationValue (p=1)\n",
        "                       ])\n",
        "augmented_image = transform(image=image)['image']\n",
        "visualize(augmented_image)"
      ],
      "execution_count": null,
      "outputs": []
    }
  ]
}